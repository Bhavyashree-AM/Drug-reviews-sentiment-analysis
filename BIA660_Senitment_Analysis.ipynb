{
 "cells": [
  {
   "cell_type": "code",
   "execution_count": 227,
   "id": "db3cd6b6",
   "metadata": {},
   "outputs": [],
   "source": [
    "import pandas as pd\n",
    "import numpy as np\n",
    "import nltk\n",
    "from nltk.sentiment.vader import SentimentIntensityAnalyzer\n",
    "from sklearn.metrics import classification_report, confusion_matrix, f1_score, accuracy_score\n",
    "import matplotlib.pyplot as plt\n",
    "import spacy\n",
    "import seaborn as sns\n",
    "import re\n",
    "import gensim\n",
    "from gensim.models import Word2Vec\n",
    "import string\n",
    "from nltk.stem import WordNetLemmatizer\n",
    "from nltk.cluster import KMeansClusterer,cosine_distance,euclidean_distance\n",
    "from sklearn.model_selection import train_test_split\n",
    "from sklearn.feature_extraction.text import TfidfVectorizer\n",
    "import time\n",
    "from nltk.corpus import stopwords\n",
    "from collections import OrderedDict\n",
    "from nltk import word_tokenize, pos_tag\n",
    "from sklearn.preprocessing import normalize"
   ]
  },
  {
   "cell_type": "code",
   "execution_count": 217,
   "id": "9737e5bb",
   "metadata": {},
   "outputs": [],
   "source": [
    "reviews_df = pd.read_excel(\"/Users/meetpatel/Documents/Stevens/Sem 3/BIA-660/Project/project_data.xlsx\")"
   ]
  },
  {
   "cell_type": "code",
   "execution_count": 218,
   "id": "650ae255",
   "metadata": {
    "scrolled": true
   },
   "outputs": [],
   "source": [
    "reviews_df.dropna(subset=['drug_review'], inplace=True)\n",
    "reviews_df.reset_index(drop=False, inplace=True)"
   ]
  },
  {
   "cell_type": "code",
   "execution_count": 219,
   "id": "c5334c97",
   "metadata": {},
   "outputs": [
    {
     "data": {
      "text/plain": [
       "1765"
      ]
     },
     "execution_count": 219,
     "metadata": {},
     "output_type": "execute_result"
    }
   ],
   "source": [
    "len(reviews_df['side effects cleaned'])"
   ]
  },
  {
   "cell_type": "code",
   "execution_count": 220,
   "id": "62f88b81",
   "metadata": {},
   "outputs": [
    {
     "data": {
      "text/plain": [
       "914"
      ]
     },
     "execution_count": 220,
     "metadata": {},
     "output_type": "execute_result"
    }
   ],
   "source": [
    "filtered_reviews = reviews_df[reviews_df['side effects cleaned'] != 'Nil']\n",
    "len(filtered_reviews)"
   ]
  },
  {
   "cell_type": "code",
   "execution_count": 221,
   "id": "779ebfae",
   "metadata": {},
   "outputs": [
    {
     "data": {
      "text/plain": [
       "470"
      ]
     },
     "execution_count": 221,
     "metadata": {},
     "output_type": "execute_result"
    }
   ],
   "source": [
    "filtered_reviews = reviews_df[(reviews_df['modality'] == 'Deontic modality') & (reviews_df['sentiments'] == 'Negative')]\n",
    "len(filtered_reviews)"
   ]
  },
  {
   "cell_type": "code",
   "execution_count": 222,
   "id": "099fbc77",
   "metadata": {},
   "outputs": [
    {
     "data": {
      "text/html": [
       "<div>\n",
       "<style scoped>\n",
       "    .dataframe tbody tr th:only-of-type {\n",
       "        vertical-align: middle;\n",
       "    }\n",
       "\n",
       "    .dataframe tbody tr th {\n",
       "        vertical-align: top;\n",
       "    }\n",
       "\n",
       "    .dataframe thead th {\n",
       "        text-align: right;\n",
       "    }\n",
       "</style>\n",
       "<table border=\"1\" class=\"dataframe\">\n",
       "  <thead>\n",
       "    <tr style=\"text-align: right;\">\n",
       "      <th></th>\n",
       "      <th>index</th>\n",
       "      <th>drug_name</th>\n",
       "      <th>review_source</th>\n",
       "      <th>drug_review</th>\n",
       "      <th>tokens</th>\n",
       "      <th>concreteness</th>\n",
       "      <th>modality</th>\n",
       "      <th>sentiments</th>\n",
       "      <th>disease</th>\n",
       "      <th>side effects</th>\n",
       "      <th>side effects grouped</th>\n",
       "      <th>side effects cleaned</th>\n",
       "      <th>side_effects_cleaned_grouped</th>\n",
       "      <th>tokenized_reviews</th>\n",
       "    </tr>\n",
       "  </thead>\n",
       "  <tbody>\n",
       "    <tr>\n",
       "      <th>560</th>\n",
       "      <td>560</td>\n",
       "      <td>Januvia oral</td>\n",
       "      <td>WebMD</td>\n",
       "      <td>My husband took 100mg Januvia for 10 days with...</td>\n",
       "      <td>['husband', 'take', '100', 'mg', 'januvia', '1...</td>\n",
       "      <td>0.161290</td>\n",
       "      <td>Epistemic modality</td>\n",
       "      <td>Negative</td>\n",
       "      <td>Diabetes</td>\n",
       "      <td>Weight Gain</td>\n",
       "      <td>Stomach-Related</td>\n",
       "      <td>Weight Gain</td>\n",
       "      <td>Metabolic-Related</td>\n",
       "      <td>[my, husband, take, 100, mg, Januvia, for, 10,...</td>\n",
       "    </tr>\n",
       "    <tr>\n",
       "      <th>1714</th>\n",
       "      <td>1715</td>\n",
       "      <td>Trulicity subcutaneous</td>\n",
       "      <td>WebMD</td>\n",
       "      <td>I love this drug! I had some nausea at first, ...</td>\n",
       "      <td>['love', 'drug', 'nausea', '6th', 'month', 'ta...</td>\n",
       "      <td>0.078947</td>\n",
       "      <td>Epistemic modality</td>\n",
       "      <td>Positive</td>\n",
       "      <td>Diabetes</td>\n",
       "      <td>Nausea, Loss of Appetite</td>\n",
       "      <td>Stomach-Related</td>\n",
       "      <td>Nausea, Loss of Appetite</td>\n",
       "      <td>General,Psychological</td>\n",
       "      <td>[love, this, drug, have, some, nausea, at, fir...</td>\n",
       "    </tr>\n",
       "    <tr>\n",
       "      <th>351</th>\n",
       "      <td>351</td>\n",
       "      <td>Dupixent</td>\n",
       "      <td>Drugs.com</td>\n",
       "      <td>\"Dupixent has completely changed my quality of...</td>\n",
       "      <td>['dupixent', 'completely', 'change', 'quality'...</td>\n",
       "      <td>0.197368</td>\n",
       "      <td>Epistemic modality</td>\n",
       "      <td>Positive</td>\n",
       "      <td>Eczema</td>\n",
       "      <td>Sores</td>\n",
       "      <td>Skin-Related</td>\n",
       "      <td>Soreness</td>\n",
       "      <td>Ache/Pain &amp; Swelling</td>\n",
       "      <td>[Dupixent, have, completely, change, my, quali...</td>\n",
       "    </tr>\n",
       "    <tr>\n",
       "      <th>662</th>\n",
       "      <td>662</td>\n",
       "      <td>Januvia oral</td>\n",
       "      <td>WebMD</td>\n",
       "      <td>Have had nausia &amp; weakness while taking Junuvi...</td>\n",
       "      <td>['nausia', 'weakness', 'take', ' ', 'junuvia',...</td>\n",
       "      <td>0.111111</td>\n",
       "      <td>Deontic modality</td>\n",
       "      <td>Negative</td>\n",
       "      <td>Diabetes</td>\n",
       "      <td>Nausea, Weakness</td>\n",
       "      <td>Stomach-Related</td>\n",
       "      <td>Nausea, Weakness</td>\n",
       "      <td>General,Nervous-System-Related</td>\n",
       "      <td>[have, have, nausia, weakness, while, take, Ju...</td>\n",
       "    </tr>\n",
       "    <tr>\n",
       "      <th>513</th>\n",
       "      <td>513</td>\n",
       "      <td>Januvia oral</td>\n",
       "      <td>WebMD</td>\n",
       "      <td>This medication did help to lower my A1C, but ...</td>\n",
       "      <td>['medication', 'help', 'lower', 'a1c', '10', '...</td>\n",
       "      <td>0.067797</td>\n",
       "      <td>Deontic modality</td>\n",
       "      <td>Negative</td>\n",
       "      <td>Diabetes</td>\n",
       "      <td>Upper Respiratory Issues, Itching</td>\n",
       "      <td>Respiratory-Issue</td>\n",
       "      <td>Upper Respiratory Issues, Itching</td>\n",
       "      <td>Upper-Respiratory-Related,Skin-Related</td>\n",
       "      <td>[this, medication, do, help, to, lower, my, A1...</td>\n",
       "    </tr>\n",
       "    <tr>\n",
       "      <th>394</th>\n",
       "      <td>394</td>\n",
       "      <td>Elidel</td>\n",
       "      <td>WebMD</td>\n",
       "      <td>I went to a doctor for a rash that had appeare...</td>\n",
       "      <td>['go', 'doctor', 'rash', 'appear', 'hip', 'low...</td>\n",
       "      <td>0.146067</td>\n",
       "      <td>Deontic modality</td>\n",
       "      <td>Positive</td>\n",
       "      <td>Eczema</td>\n",
       "      <td>Nil</td>\n",
       "      <td>Nil</td>\n",
       "      <td>Nil</td>\n",
       "      <td>Nil</td>\n",
       "      <td>[go, to, doctor, for, rash, that, have, appear...</td>\n",
       "    </tr>\n",
       "    <tr>\n",
       "      <th>1469</th>\n",
       "      <td>1470</td>\n",
       "      <td>Invokana oral</td>\n",
       "      <td>WebMD</td>\n",
       "      <td>Is anyone experiencing indigestion taking invo...</td>\n",
       "      <td>['experience', 'indigestion', 'take', 'invokan...</td>\n",
       "      <td>0.068966</td>\n",
       "      <td>Epistemic modality</td>\n",
       "      <td>Neutral</td>\n",
       "      <td>Diabetes</td>\n",
       "      <td>Indigestion</td>\n",
       "      <td>Stomach-Related</td>\n",
       "      <td>Indigestion</td>\n",
       "      <td>Abdomen-Related</td>\n",
       "      <td>[be, anyone, experience, indigestion, take, in...</td>\n",
       "    </tr>\n",
       "    <tr>\n",
       "      <th>199</th>\n",
       "      <td>199</td>\n",
       "      <td>Eucrisa</td>\n",
       "      <td>Drugs.com</td>\n",
       "      <td>\"Two applications and my skin felt and Looked ...</td>\n",
       "      <td>['application', 'skin', 'feel', ' ', 'look', '...</td>\n",
       "      <td>0.285714</td>\n",
       "      <td>Epistemic modality</td>\n",
       "      <td>Positive</td>\n",
       "      <td>Eczema</td>\n",
       "      <td>Nil</td>\n",
       "      <td>Nil</td>\n",
       "      <td>Nil</td>\n",
       "      <td>Nil</td>\n",
       "      <td>[two, application, and, my, skin, feel, and, l...</td>\n",
       "    </tr>\n",
       "    <tr>\n",
       "      <th>665</th>\n",
       "      <td>665</td>\n",
       "      <td>Januvia oral</td>\n",
       "      <td>WebMD</td>\n",
       "      <td>On Glumetza which is a one a day metformin 150...</td>\n",
       "      <td>['glumetza', 'day', 'metformin', '1500mg', 'bl...</td>\n",
       "      <td>0.177215</td>\n",
       "      <td>Deontic modality</td>\n",
       "      <td>Positive</td>\n",
       "      <td>Diabetes</td>\n",
       "      <td>Dizziness</td>\n",
       "      <td>Mental-Health</td>\n",
       "      <td>Dizziness</td>\n",
       "      <td>Nervous-System-Related</td>\n",
       "      <td>[on, Glumetza, which, be, one, day, metformin,...</td>\n",
       "    </tr>\n",
       "    <tr>\n",
       "      <th>1206</th>\n",
       "      <td>1207</td>\n",
       "      <td>Onglyza oral</td>\n",
       "      <td>WebMD</td>\n",
       "      <td>No noticeable difference in BS readings. Heada...</td>\n",
       "      <td>['noticeable', 'difference', 'bs', 'reading', ...</td>\n",
       "      <td>0.285714</td>\n",
       "      <td>Epistemic modality</td>\n",
       "      <td>Negative</td>\n",
       "      <td>Diabetes</td>\n",
       "      <td>Headache, Sore Throat</td>\n",
       "      <td>Mental-Health</td>\n",
       "      <td>Headache, Sore Throat</td>\n",
       "      <td>Ache/Pain &amp; Swelling,Upper-Respiratory-Related</td>\n",
       "      <td>[no, noticeable, difference, in, BS, reading, ...</td>\n",
       "    </tr>\n",
       "  </tbody>\n",
       "</table>\n",
       "</div>"
      ],
      "text/plain": [
       "      index               drug_name review_source  \\\n",
       "560     560            Januvia oral         WebMD   \n",
       "1714   1715  Trulicity subcutaneous         WebMD   \n",
       "351     351                Dupixent     Drugs.com   \n",
       "662     662            Januvia oral         WebMD   \n",
       "513     513            Januvia oral         WebMD   \n",
       "394     394                  Elidel         WebMD   \n",
       "1469   1470           Invokana oral         WebMD   \n",
       "199     199                 Eucrisa     Drugs.com   \n",
       "665     665            Januvia oral         WebMD   \n",
       "1206   1207            Onglyza oral         WebMD   \n",
       "\n",
       "                                            drug_review  \\\n",
       "560   My husband took 100mg Januvia for 10 days with...   \n",
       "1714  I love this drug! I had some nausea at first, ...   \n",
       "351   \"Dupixent has completely changed my quality of...   \n",
       "662   Have had nausia & weakness while taking Junuvi...   \n",
       "513   This medication did help to lower my A1C, but ...   \n",
       "394   I went to a doctor for a rash that had appeare...   \n",
       "1469  Is anyone experiencing indigestion taking invo...   \n",
       "199   \"Two applications and my skin felt and Looked ...   \n",
       "665   On Glumetza which is a one a day metformin 150...   \n",
       "1206  No noticeable difference in BS readings. Heada...   \n",
       "\n",
       "                                                 tokens  concreteness  \\\n",
       "560   ['husband', 'take', '100', 'mg', 'januvia', '1...      0.161290   \n",
       "1714  ['love', 'drug', 'nausea', '6th', 'month', 'ta...      0.078947   \n",
       "351   ['dupixent', 'completely', 'change', 'quality'...      0.197368   \n",
       "662   ['nausia', 'weakness', 'take', ' ', 'junuvia',...      0.111111   \n",
       "513   ['medication', 'help', 'lower', 'a1c', '10', '...      0.067797   \n",
       "394   ['go', 'doctor', 'rash', 'appear', 'hip', 'low...      0.146067   \n",
       "1469  ['experience', 'indigestion', 'take', 'invokan...      0.068966   \n",
       "199   ['application', 'skin', 'feel', ' ', 'look', '...      0.285714   \n",
       "665   ['glumetza', 'day', 'metformin', '1500mg', 'bl...      0.177215   \n",
       "1206  ['noticeable', 'difference', 'bs', 'reading', ...      0.285714   \n",
       "\n",
       "                modality sentiments   disease  \\\n",
       "560   Epistemic modality   Negative  Diabetes   \n",
       "1714  Epistemic modality   Positive  Diabetes   \n",
       "351   Epistemic modality   Positive    Eczema   \n",
       "662     Deontic modality   Negative  Diabetes   \n",
       "513     Deontic modality   Negative  Diabetes   \n",
       "394     Deontic modality   Positive    Eczema   \n",
       "1469  Epistemic modality    Neutral  Diabetes   \n",
       "199   Epistemic modality   Positive    Eczema   \n",
       "665     Deontic modality   Positive  Diabetes   \n",
       "1206  Epistemic modality   Negative  Diabetes   \n",
       "\n",
       "                           side effects side effects grouped  \\\n",
       "560                         Weight Gain      Stomach-Related   \n",
       "1714           Nausea, Loss of Appetite      Stomach-Related   \n",
       "351                               Sores         Skin-Related   \n",
       "662                    Nausea, Weakness      Stomach-Related   \n",
       "513   Upper Respiratory Issues, Itching    Respiratory-Issue   \n",
       "394                                 Nil                  Nil   \n",
       "1469                        Indigestion      Stomach-Related   \n",
       "199                                 Nil                  Nil   \n",
       "665                           Dizziness        Mental-Health   \n",
       "1206              Headache, Sore Throat        Mental-Health   \n",
       "\n",
       "                   side effects cleaned  \\\n",
       "560                         Weight Gain   \n",
       "1714           Nausea, Loss of Appetite   \n",
       "351                            Soreness   \n",
       "662                    Nausea, Weakness   \n",
       "513   Upper Respiratory Issues, Itching   \n",
       "394                                 Nil   \n",
       "1469                        Indigestion   \n",
       "199                                 Nil   \n",
       "665                           Dizziness   \n",
       "1206              Headache, Sore Throat   \n",
       "\n",
       "                        side_effects_cleaned_grouped  \\\n",
       "560                                Metabolic-Related   \n",
       "1714                           General,Psychological   \n",
       "351                             Ache/Pain & Swelling   \n",
       "662                   General,Nervous-System-Related   \n",
       "513           Upper-Respiratory-Related,Skin-Related   \n",
       "394                                              Nil   \n",
       "1469                                 Abdomen-Related   \n",
       "199                                              Nil   \n",
       "665                           Nervous-System-Related   \n",
       "1206  Ache/Pain & Swelling,Upper-Respiratory-Related   \n",
       "\n",
       "                                      tokenized_reviews  \n",
       "560   [my, husband, take, 100, mg, Januvia, for, 10,...  \n",
       "1714  [love, this, drug, have, some, nausea, at, fir...  \n",
       "351   [Dupixent, have, completely, change, my, quali...  \n",
       "662   [have, have, nausia, weakness, while, take, Ju...  \n",
       "513   [this, medication, do, help, to, lower, my, A1...  \n",
       "394   [go, to, doctor, for, rash, that, have, appear...  \n",
       "1469  [be, anyone, experience, indigestion, take, in...  \n",
       "199   [two, application, and, my, skin, feel, and, l...  \n",
       "665   [on, Glumetza, which, be, one, day, metformin,...  \n",
       "1206  [no, noticeable, difference, in, BS, reading, ...  "
      ]
     },
     "execution_count": 222,
     "metadata": {},
     "output_type": "execute_result"
    }
   ],
   "source": [
    "nlp = spacy.load(\"en_core_web_sm\")\n",
    "token_li = []\n",
    "i = 0\n",
    "for x in reviews_df['drug_review']:\n",
    "    x = re.sub(r\"won\\'t\", \"will not\", x)\n",
    "    x = re.sub(r\"can\\'t\", \"cannot\", x)\n",
    "    x = re.sub(r\"n\\'t\", \" not\", x)\n",
    "    temp = [word.lemma_.strip(string.punctuation) for word in nlp(x) if len(word.lemma_) >=2]\n",
    "    token_li.append(temp)\n",
    "    i+=1\n",
    "reviews_df['tokenized_reviews'] = token_li\n",
    "reviews_df.sample(10)"
   ]
  },
  {
   "cell_type": "code",
   "execution_count": 223,
   "id": "d75cceba",
   "metadata": {},
   "outputs": [
    {
     "name": "stdout",
     "output_type": "stream",
     "text": [
      "['i', 'me', 'my', 'myself', 'we', 'our', 'ours', 'ourselves', 'you', \"you're\", \"you've\", \"you'll\", \"you'd\", 'your', 'yours', 'yourself', 'yourselves', 'he', 'him', 'his', 'himself', 'she', \"she's\", 'her', 'hers', 'herself', 'it', \"it's\", 'its', 'itself', 'they', 'them', 'their', 'theirs', 'themselves', 'what', 'which', 'who', 'whom', 'this', 'that', \"that'll\", 'these', 'those', 'am', 'is', 'are', 'was', 'were', 'be', 'been', 'being', 'have', 'has', 'had', 'having', 'do', 'does', 'did', 'doing', 'a', 'an', 'the', 'and', 'but', 'if', 'or', 'because', 'as', 'until', 'while', 'of', 'at', 'by', 'for', 'with', 'about', 'against', 'between', 'into', 'through', 'during', 'before', 'after', 'above', 'below', 'to', 'from', 'up', 'down', 'in', 'out', 'on', 'off', 'over', 'under', 'again', 'further', 'then', 'once', 'here', 'there', 'when', 'where', 'why', 'how', 'all', 'any', 'both', 'each', 'few', 'more', 'most', 'other', 'some', 'such', 'only', 'own', 'same', 'so', 'than', 'too', 'very', 's', 't', 'can', 'will', 'just', 'don', \"don't\", 'should', \"should've\", 'now', 'd', 'll', 'm', 'o', 're', 've', 'y', 'ain', 'aren', \"aren't\", 'couldn', \"couldn't\", 'didn', \"didn't\", 'doesn', \"doesn't\", 'hadn', \"hadn't\", 'hasn', \"hasn't\", 'haven', \"haven't\", 'isn', \"isn't\", 'ma', 'mightn', \"mightn't\", 'mustn', \"mustn't\", 'needn', \"needn't\", 'shan', \"shan't\", 'shouldn', \"shouldn't\", 'wasn', \"wasn't\", 'weren', \"weren't\", 'won', \"won't\", 'wouldn', \"wouldn't\"]\n"
     ]
    }
   ],
   "source": [
    "stopwords = nltk.corpus.stopwords.words('english')\n",
    "stopwords.remove('no')\n",
    "stopwords.remove('not')\n",
    "stopwords.remove('nor')\n",
    "print(stopwords)"
   ]
  },
  {
   "cell_type": "code",
   "execution_count": 224,
   "id": "c87e4e88",
   "metadata": {},
   "outputs": [],
   "source": [
    "pred_sentiment = []\n",
    "sia = SentimentIntensityAnalyzer()\n",
    "for x in reviews_df['drug_review']:\n",
    "    score = sia.polarity_scores(str(x))['compound']\n",
    "    if score >= 0.05:\n",
    "        pred_sentiment.append(1)\n",
    "    elif score <= -0.05:\n",
    "        pred_sentiment.append(-1)\n",
    "    else:\n",
    "        pred_sentiment.append(0) \n",
    "reviews_df['pred_sentiment'] = pred_sentiment"
   ]
  },
  {
   "cell_type": "code",
   "execution_count": 225,
   "id": "05736e4a",
   "metadata": {},
   "outputs": [],
   "source": [
    "sentiment_mapping = {'Negative': -1, 'Positive': 1, 'Neutral': 0}\n",
    "reviews_df['Sentiments_mapped'] = reviews_df['sentiments'].map(sentiment_mapping)"
   ]
  },
  {
   "cell_type": "code",
   "execution_count": 226,
   "id": "1190e603",
   "metadata": {},
   "outputs": [
    {
     "name": "stdout",
     "output_type": "stream",
     "text": [
      "              precision    recall  f1-score   support\n",
      "\n",
      "          -1       0.54      0.75      0.63       663\n",
      "           0       0.39      0.15      0.22       382\n",
      "           1       0.62      0.60      0.61       720\n",
      "\n",
      "    accuracy                           0.56      1765\n",
      "   macro avg       0.52      0.50      0.49      1765\n",
      "weighted avg       0.54      0.56      0.53      1765\n",
      "\n"
     ]
    }
   ],
   "source": [
    "print(classification_report(reviews_df['Sentiments_mapped'], reviews_df['pred_sentiment']))"
   ]
  },
  {
   "cell_type": "code",
   "execution_count": 229,
   "id": "b7849c89",
   "metadata": {},
   "outputs": [
    {
     "name": "stdout",
     "output_type": "stream",
     "text": [
      "Accuracy: 0.56\n"
     ]
    }
   ],
   "source": [
    "accuracy = accuracy_score(reviews_df['Sentiments_mapped'], reviews_df['pred_sentiment'])\n",
    "print(f\"Accuracy: {accuracy:.2f}\")"
   ]
  },
  {
   "cell_type": "code",
   "execution_count": 230,
   "id": "a8a17af2",
   "metadata": {},
   "outputs": [
    {
     "data": {
      "image/png": "[encoded data removed]",
      "text/plain": [
       "<Figure size 432x288 with 2 Axes>"
      ]
     },
     "metadata": {
      "needs_background": "light"
     },
     "output_type": "display_data"
    }
   ],
   "source": [
    "definitions = ['Negative','Neutral','Positive']\n",
    "con_matrix = confusion_matrix(reviews_df['Sentiments_mapped'], reviews_df['pred_sentiment'])\n",
    "sns.heatmap(con_matrix, annot=True, xticklabels=definitions, yticklabels=definitions, fmt=\".0f\", cmap=\"crest\")\n",
    "plt.xlabel('Predicted') \n",
    "plt.ylabel('Actual') \n",
    "plt.show()"
   ]
  },
  {
   "cell_type": "code",
   "execution_count": 231,
   "id": "49185ccd",
   "metadata": {},
   "outputs": [],
   "source": [
    "pred_sentiment = []\n",
    "sia = SentimentIntensityAnalyzer()\n",
    "for x in reviews_df['tokenized_reviews']:\n",
    "    score = sia.polarity_scores(' '.join(x))['compound']\n",
    "    if score >= 0.05:\n",
    "        pred_sentiment.append(1)\n",
    "    elif score <= -0.05:\n",
    "        pred_sentiment.append(-1)\n",
    "    else:\n",
    "        pred_sentiment.append(0) \n",
    "reviews_df['pred_sentiment'] = pred_sentiment"
   ]
  },
  {
   "cell_type": "code",
   "execution_count": 232,
   "id": "1537b97a",
   "metadata": {},
   "outputs": [
    {
     "name": "stdout",
     "output_type": "stream",
     "text": [
      "              precision    recall  f1-score   support\n",
      "\n",
      "          -1       0.54      0.76      0.63       663\n",
      "           0       0.38      0.15      0.22       382\n",
      "           1       0.64      0.61      0.62       720\n",
      "\n",
      "    accuracy                           0.57      1765\n",
      "   macro avg       0.52      0.51      0.49      1765\n",
      "weighted avg       0.55      0.57      0.54      1765\n",
      "\n"
     ]
    }
   ],
   "source": [
    "print(classification_report(reviews_df['Sentiments_mapped'], reviews_df['pred_sentiment']))"
   ]
  },
  {
   "cell_type": "code",
   "execution_count": 233,
   "id": "b7dce76b",
   "metadata": {},
   "outputs": [
    {
     "name": "stdout",
     "output_type": "stream",
     "text": [
      "Accuracy: 0.57\n"
     ]
    }
   ],
   "source": [
    "accuracy = accuracy_score(reviews_df['Sentiments_mapped'], reviews_df['pred_sentiment'])\n",
    "print(f\"Accuracy: {accuracy:.2f}\")"
   ]
  },
  {
   "cell_type": "code",
   "execution_count": 234,
   "id": "b57ec734",
   "metadata": {},
   "outputs": [
    {
     "data": {
      "image/png": "[encoded data removed]",
      "text/plain": [
       "<Figure size 432x288 with 2 Axes>"
      ]
     },
     "metadata": {
      "needs_background": "light"
     },
     "output_type": "display_data"
    }
   ],
   "source": [
    "definitions = ['Negative','Neutral','Positive']\n",
    "con_matrix = confusion_matrix(reviews_df['Sentiments_mapped'], reviews_df['pred_sentiment'])\n",
    "sns.heatmap(con_matrix, annot=True, xticklabels=definitions, yticklabels=definitions, fmt=\".0f\", cmap=\"crest\")\n",
    "plt.xlabel('Predicted') \n",
    "plt.ylabel('Actual') \n",
    "plt.show()"
   ]
  },
  {
   "cell_type": "code",
   "execution_count": 237,
   "id": "8b68dbb6",
   "metadata": {},
   "outputs": [],
   "source": [
    "def remove_stopwords(docs):\n",
    "    \n",
    "    token = [word for word in docs if word not in stopwords]\n",
    "    return token"
   ]
  },
  {
   "cell_type": "code",
   "execution_count": 239,
   "id": "42309889",
   "metadata": {},
   "outputs": [],
   "source": [
    "pred_sentiment = []\n",
    "sia = SentimentIntensityAnalyzer()\n",
    "for x in reviews_df['tokenized_reviews']:\n",
    "    score = sia.polarity_scores(' '.join(x))['compound']\n",
    "    if score >= 0.2:\n",
    "        pred_sentiment.append(1)\n",
    "    elif score <= -0.2:\n",
    "        pred_sentiment.append(-1)\n",
    "    else:\n",
    "        pred_sentiment.append(0) \n",
    "reviews_df['pred_sentiment'] = pred_sentiment"
   ]
  },
  {
   "cell_type": "code",
   "execution_count": 240,
   "id": "c33e5a04",
   "metadata": {},
   "outputs": [
    {
     "name": "stdout",
     "output_type": "stream",
     "text": [
      "              precision    recall  f1-score   support\n",
      "\n",
      "          -1       0.56      0.73      0.63       663\n",
      "           0       0.34      0.26      0.30       382\n",
      "           1       0.67      0.56      0.61       720\n",
      "\n",
      "    accuracy                           0.56      1765\n",
      "   macro avg       0.52      0.52      0.51      1765\n",
      "weighted avg       0.55      0.56      0.55      1765\n",
      "\n"
     ]
    }
   ],
   "source": [
    "print(classification_report(reviews_df['Sentiments_mapped'], reviews_df['pred_sentiment']))"
   ]
  },
  {
   "cell_type": "code",
   "execution_count": 241,
   "id": "734394cc",
   "metadata": {},
   "outputs": [
    {
     "name": "stdout",
     "output_type": "stream",
     "text": [
      "Accuracy: 0.56\n"
     ]
    }
   ],
   "source": [
    "accuracy = accuracy_score(reviews_df['Sentiments_mapped'], reviews_df['pred_sentiment'])\n",
    "print(f\"Accuracy: {accuracy:.2f}\")"
   ]
  },
  {
   "cell_type": "code",
   "execution_count": 242,
   "id": "ff64bd54",
   "metadata": {},
   "outputs": [
    {
     "data": {
      "image/png": "[encoded data removed]",
      "text/plain": [
       "<Figure size 432x288 with 2 Axes>"
      ]
     },
     "metadata": {
      "needs_background": "light"
     },
     "output_type": "display_data"
    }
   ],
   "source": [
    "definitions = ['Negative','Neutral','Positive']\n",
    "con_matrix = confusion_matrix(reviews_df['Sentiments_mapped'], reviews_df['pred_sentiment'])\n",
    "sns.heatmap(con_matrix, annot=True, xticklabels=definitions, yticklabels=definitions, fmt=\".0f\", cmap=\"crest\")\n",
    "plt.xlabel('Predicted') \n",
    "plt.ylabel('Actual') \n",
    "plt.show()"
   ]
  },
  {
   "cell_type": "code",
   "execution_count": 100,
   "id": "514c1de7",
   "metadata": {},
   "outputs": [],
   "source": [
    "def calculate_similarity_score(key_vectors, target_tokens, doc):\n",
    "    \n",
    "    target_token = [token for token in target_tokens if token in key_vectors.key_to_index]\n",
    "\n",
    "    doc_token = [token for token in doc if token in key_vectors.key_to_index]\n",
    "    \n",
    "    if not target_token or not doc_token:\n",
    "        return None\n",
    "    \n",
    "    similarity_score = key_vectors.n_similarity(target_tokens, doc_token)\n",
    "    \n",
    "    return similarity_score\n",
    "\n",
    "def sentiment_analysis(key_vectors, positive_tokens, negative_tokens, docs):\n",
    "    \n",
    "    positive_score = docs.apply(lambda x: calculate_similarity_score(key_vectors=key_vectors, \n",
    "                                                                 target_tokens=positive_tokens, \n",
    "                                                                 doc=x))\n",
    "\n",
    "    negative_score = docs.apply(lambda x: calculate_similarity_score(key_vectors=key_vectors, \n",
    "                                                                 target_tokens=negative_tokens, \n",
    "                                                                 doc=x))\n",
    "\n",
    "    semantic_sentiment_score = positive_score - negative_score\n",
    "    \n",
    "    semantic_sentiment_polarity = semantic_sentiment_score.apply(lambda x: 1 if (x > 0) else 0)\n",
    "                                          \n",
    "    return positive_score, negative_score, semantic_sentiment_score, semantic_sentiment_polarity\n",
    "    "
   ]
  },
  {
   "cell_type": "code",
   "execution_count": 112,
   "id": "520bdf11",
   "metadata": {},
   "outputs": [],
   "source": [
    "w2v_model = Word2Vec(reviews_df['tokenized_reviews'],workers=4,vector_size=400,window=5,min_count=3)"
   ]
  },
  {
   "cell_type": "code",
   "execution_count": 113,
   "id": "810e4714",
   "metadata": {},
   "outputs": [],
   "source": [
    "positive = pd.read_csv('positive-words.txt', header=None)\n",
    "negative = pd.read_csv('negative-words.txt', header=None)\n",
    "\n",
    "positive_word_li = list(positive[0])\n",
    "negative_word_li = list(negative[0])"
   ]
  },
  {
   "cell_type": "code",
   "execution_count": 110,
   "id": "d19097c5",
   "metadata": {},
   "outputs": [],
   "source": [
    "for x in reviews_df['tokenized_reviews']:\n",
    "    if 'a' in x:\n",
    "        print(x)"
   ]
  },
  {
   "cell_type": "code",
   "execution_count": 119,
   "id": "b6cdb638",
   "metadata": {},
   "outputs": [],
   "source": [
    "x_train,x_test,y_train,y_test=train_test_split(reviews_df[\"drug_review\"],reviews_df[\"Sentiments_mapped\"],test_size=0.3,random_state=0)"
   ]
  },
  {
   "cell_type": "code",
   "execution_count": 132,
   "id": "4741ca04",
   "metadata": {},
   "outputs": [],
   "source": [
    "def cluster_kmean(train_text, test_text, test_label, metric = 'Cosine', min_df=5, num=3, repeat=20):\n",
    "    \n",
    "    tfidf_vect = TfidfVectorizer(stop_words=stopwords, min_df=min_df, binary=True)\n",
    "    train = tfidf_vect.fit_transform(train_text)\n",
    "    test = tfidf_vect.transform(test_text)\n",
    "    if metric == 'Cosine':\n",
    "        clusterer = KMeansClusterer(num, cosine_distance, repeats=repeat)\n",
    "        clusters = clusterer.cluster(train.toarray(), assign_clusters=True)\n",
    "        predicted = [clusterer.classify(v) for v in test.toarray()]\n",
    "    else:\n",
    "        clusterer = KMeansClusterer(num, euclidean_distance, repeats=repeat)\n",
    "        clusters = clusterer.cluster(train.toarray(), assign_clusters=True)\n",
    "        predicted = [clusterer.classify(v) for v in test.toarray()]\n",
    "    \n",
    "    confusion_df = pd.DataFrame(list(zip(test_label.values, predicted)), columns=['label', 'cluster'])\n",
    "    cross = pd.crosstab(index=confusion_df.cluster, columns=confusion_df.label)\n",
    "    cluster = []\n",
    "    for x in predicted:\n",
    "        cluster.append(cross.idxmax(axis=\"columns\")[x])\n",
    "    print(classification_report(y_test, cluster))\n",
    "    \n",
    "    definitions = ['Negative','Neutral','Positive']\n",
    "    con_matrix = confusion_matrix(y_test, cluster)\n",
    "    sns.heatmap(con_matrix, annot=True, xticklabels=definitions, yticklabels=definitions, fmt=\".0f\", cmap=\"crest\")\n",
    "    plt.xlabel('Predicted') \n",
    "    plt.ylabel('Actual') \n",
    "    plt.show()"
   ]
  },
  {
   "cell_type": "code",
   "execution_count": 135,
   "id": "124f744c",
   "metadata": {},
   "outputs": [
    {
     "name": "stdout",
     "output_type": "stream",
     "text": [
      "              precision    recall  f1-score   support\n",
      "\n",
      "          -1       0.55      0.46      0.50       208\n",
      "           0       0.00      0.00      0.00       102\n",
      "           1       0.48      0.78      0.59       220\n",
      "\n",
      "    accuracy                           0.50       530\n",
      "   macro avg       0.34      0.41      0.37       530\n",
      "weighted avg       0.42      0.50      0.44       530\n",
      "\n"
     ]
    },
    {
     "name": "stderr",
     "output_type": "stream",
     "text": [
      "/Users/meetpatel/opt/anaconda3/lib/python3.9/site-packages/sklearn/metrics/_classification.py:1318: UndefinedMetricWarning: Precision and F-score are ill-defined and being set to 0.0 in labels with no predicted samples. Use `zero_division` parameter to control this behavior.\n",
      "  _warn_prf(average, modifier, msg_start, len(result))\n",
      "/Users/meetpatel/opt/anaconda3/lib/python3.9/site-packages/sklearn/metrics/_classification.py:1318: UndefinedMetricWarning: Precision and F-score are ill-defined and being set to 0.0 in labels with no predicted samples. Use `zero_division` parameter to control this behavior.\n",
      "  _warn_prf(average, modifier, msg_start, len(result))\n",
      "/Users/meetpatel/opt/anaconda3/lib/python3.9/site-packages/sklearn/metrics/_classification.py:1318: UndefinedMetricWarning: Precision and F-score are ill-defined and being set to 0.0 in labels with no predicted samples. Use `zero_division` parameter to control this behavior.\n",
      "  _warn_prf(average, modifier, msg_start, len(result))\n"
     ]
    },
    {
     "data": {
      "image/png": "[encoded data removed]",
      "text/plain": [
       "<Figure size 432x288 with 2 Axes>"
      ]
     },
     "metadata": {
      "needs_background": "light"
     },
     "output_type": "display_data"
    }
   ],
   "source": [
    "cluster = cluster_kmean(x_train, x_test, y_test, 'Cosine', 5, 8, 20)"
   ]
  },
  {
   "cell_type": "code",
   "execution_count": 139,
   "id": "63f92fb2",
   "metadata": {},
   "outputs": [
    {
     "name": "stdout",
     "output_type": "stream",
     "text": [
      "Collecting textblob\n",
      "  Downloading textblob-0.17.1-py2.py3-none-any.whl (636 kB)\n",
      "\u001b[2K     \u001b[90m━━━━━━━━━━━━━━━━━━━━━━━━━━━━━━━━━━━━━━\u001b[0m \u001b[32m636.8/636.8 kB\u001b[0m \u001b[31m12.1 MB/s\u001b[0m eta \u001b[36m0:00:00\u001b[0m00:01\u001b[0m\n",
      "\u001b[?25hRequirement already satisfied: nltk>=3.1 in /Users/meetpatel/opt/anaconda3/lib/python3.9/site-packages (from textblob) (3.7)\n",
      "Requirement already satisfied: click in /Users/meetpatel/opt/anaconda3/lib/python3.9/site-packages (from nltk>=3.1->textblob) (8.0.4)\n",
      "Requirement already satisfied: joblib in /Users/meetpatel/opt/anaconda3/lib/python3.9/site-packages (from nltk>=3.1->textblob) (1.2.0)\n",
      "Requirement already satisfied: regex>=2021.8.3 in /Users/meetpatel/opt/anaconda3/lib/python3.9/site-packages (from nltk>=3.1->textblob) (2022.3.15)\n",
      "Requirement already satisfied: tqdm in /Users/meetpatel/opt/anaconda3/lib/python3.9/site-packages (from nltk>=3.1->textblob) (4.64.0)\n",
      "Installing collected packages: textblob\n",
      "Successfully installed textblob-0.17.1\n"
     ]
    }
   ],
   "source": [
    "!pip install textblob"
   ]
  },
  {
   "cell_type": "code",
   "execution_count": 243,
   "id": "b2e9c434",
   "metadata": {},
   "outputs": [],
   "source": [
    "from textblob import TextBlob\n",
    "\n",
    "pred_sentiment_textblob = []\n",
    "for x in reviews_df['drug_review']:\n",
    "    analysis = TextBlob(str(x))\n",
    "    polarity = analysis.sentiment.polarity\n",
    "    if polarity > 0:\n",
    "        pred_sentiment_textblob.append(1)\n",
    "    elif polarity < 0:\n",
    "        pred_sentiment_textblob.append(-1)\n",
    "    else:\n",
    "        pred_sentiment_textblob.append(0)\n",
    "\n",
    "reviews_df['pred_sentiment_textblob'] = pred_sentiment_textblob"
   ]
  },
  {
   "cell_type": "code",
   "execution_count": 244,
   "id": "ab68bb8e",
   "metadata": {},
   "outputs": [
    {
     "name": "stdout",
     "output_type": "stream",
     "text": [
      "              precision    recall  f1-score   support\n",
      "\n",
      "          -1       0.57      0.56      0.56       663\n",
      "           0       0.37      0.17      0.23       382\n",
      "           1       0.55      0.73      0.63       720\n",
      "\n",
      "    accuracy                           0.54      1765\n",
      "   macro avg       0.50      0.48      0.47      1765\n",
      "weighted avg       0.52      0.54      0.52      1765\n",
      "\n"
     ]
    }
   ],
   "source": [
    "print(classification_report(reviews_df['Sentiments_mapped'], reviews_df['pred_sentiment_textblob']))"
   ]
  },
  {
   "cell_type": "code",
   "execution_count": 245,
   "id": "fb629643",
   "metadata": {},
   "outputs": [
    {
     "name": "stdout",
     "output_type": "stream",
     "text": [
      "Accuracy: 0.56\n"
     ]
    }
   ],
   "source": [
    "accuracy = accuracy_score(reviews_df['Sentiments_mapped'], reviews_df['pred_sentiment'])\n",
    "print(f\"Accuracy: {accuracy:.2f}\")"
   ]
  },
  {
   "cell_type": "code",
   "execution_count": 246,
   "id": "a558845e",
   "metadata": {},
   "outputs": [
    {
     "data": {
      "image/png": "[encoded data removed]",
      "text/plain": [
       "<Figure size 432x288 with 2 Axes>"
      ]
     },
     "metadata": {
      "needs_background": "light"
     },
     "output_type": "display_data"
    }
   ],
   "source": [
    "definitions = ['Negative','Neutral','Positive']\n",
    "con_matrix = confusion_matrix(reviews_df['Sentiments_mapped'], reviews_df['pred_sentiment_textblob'])\n",
    "sns.heatmap(con_matrix, annot=True, xticklabels=definitions, yticklabels=definitions, fmt=\".0f\", cmap=\"crest\")\n",
    "plt.xlabel('Predicted') \n",
    "plt.ylabel('Actual') \n",
    "plt.show()"
   ]
  },
  {
   "cell_type": "code",
   "execution_count": 247,
   "id": "6f412f93",
   "metadata": {},
   "outputs": [],
   "source": [
    "from nltk.corpus import sentiwordnet as swn\n",
    "from nltk.stem import WordNetLemmatizer"
   ]
  },
  {
   "cell_type": "code",
   "execution_count": 248,
   "id": "56a1daf7",
   "metadata": {},
   "outputs": [],
   "source": [
    "lemmatizer = WordNetLemmatizer()\n",
    "def analyze_sentiment_sentiwordnet(tokens):\n",
    "    pos_score = 0\n",
    "    neg_score = 0\n",
    "    \n",
    "    for token in tokens:\n",
    "        synsets = list(swn.senti_synsets(lemmatizer.lemmatize(token)))\n",
    "        \n",
    "        if synsets:\n",
    "            # Consider the first synset\n",
    "            synset = synsets[0]\n",
    "            # Calculate the sentiment scores (positive, negative, objective)\n",
    "            pos_score += synset.pos_score()\n",
    "            neg_score += synset.neg_score()\n",
    "    \n",
    "    # Calculate the overall sentiment score\n",
    "    if pos_score > neg_score:\n",
    "        return 1  # Positive sentiment\n",
    "    elif pos_score < neg_score:\n",
    "        return -1  # Negative sentiment\n",
    "    else:\n",
    "        return 0  # Neutral sentiment (or balanced)\n",
    "\n",
    "# Apply the function to your tokenized data\n",
    "reviews_df['pred_sentiment_sentiwordnet'] = reviews_df['tokenized_reviews'].apply(analyze_sentiment_sentiwordnet)"
   ]
  },
  {
   "cell_type": "code",
   "execution_count": 249,
   "id": "8936ea2b",
   "metadata": {
    "scrolled": false
   },
   "outputs": [
    {
     "name": "stdout",
     "output_type": "stream",
     "text": [
      "              precision    recall  f1-score   support\n",
      "\n",
      "          -1       0.46      0.84      0.60       663\n",
      "           0       0.30      0.07      0.11       382\n",
      "           1       0.59      0.39      0.47       720\n",
      "\n",
      "    accuracy                           0.49      1765\n",
      "   macro avg       0.45      0.43      0.39      1765\n",
      "weighted avg       0.48      0.49      0.44      1765\n",
      "\n"
     ]
    }
   ],
   "source": [
    "print(classification_report(reviews_df['Sentiments_mapped'], reviews_df['pred_sentiment_sentiwordnet']))"
   ]
  },
  {
   "cell_type": "code",
   "execution_count": 250,
   "id": "b85396c4",
   "metadata": {},
   "outputs": [
    {
     "name": "stdout",
     "output_type": "stream",
     "text": [
      "Accuracy: 0.56\n"
     ]
    }
   ],
   "source": [
    "accuracy = accuracy_score(reviews_df['Sentiments_mapped'], reviews_df['pred_sentiment'])\n",
    "print(f\"Accuracy: {accuracy:.2f}\")"
   ]
  },
  {
   "cell_type": "code",
   "execution_count": 251,
   "id": "92197aad",
   "metadata": {},
   "outputs": [
    {
     "data": {
      "image/png": "[encoded data removed]",
      "text/plain": [
       "<Figure size 432x288 with 2 Axes>"
      ]
     },
     "metadata": {
      "needs_background": "light"
     },
     "output_type": "display_data"
    }
   ],
   "source": [
    "definitions = ['Negative','Neutral','Positive']\n",
    "con_matrix = confusion_matrix(reviews_df['Sentiments_mapped'], reviews_df['pred_sentiment_sentiwordnet'])\n",
    "sns.heatmap(con_matrix, annot=True, xticklabels=definitions, yticklabels=definitions, fmt=\".0f\", cmap=\"crest\")\n",
    "plt.xlabel('Predicted') \n",
    "plt.ylabel('Actual') \n",
    "plt.show()"
   ]
  },
  {
   "cell_type": "code",
   "execution_count": null,
   "id": "c169a531",
   "metadata": {},
   "outputs": [],
   "source": []
  }
 ],
 "metadata": {
  "kernelspec": {
   "display_name": "Python 3 (ipykernel)",
   "language": "python",
   "name": "python3"
  },
  "language_info": {
   "codemirror_mode": {
    "name": "ipython",
    "version": 3
   },
   "file_extension": ".py",
   "mimetype": "text/x-python",
   "name": "python",
   "nbconvert_exporter": "python",
   "pygments_lexer": "ipython3",
   "version": "3.9.12"
  }
 },
 "nbformat": 4,
 "nbformat_minor": 5
}
